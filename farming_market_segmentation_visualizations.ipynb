{
 "cells": [
  {
   "cell_type": "markdown",
   "id": "d0836e81",
   "metadata": {},
   "source": [
    "# Farming Market Segmentation Data Visualization\n",
    "This notebook contains visualizations for analyzing the market segmentation of farmers based on the provided dataset."
   ]
  },
  {
   "cell_type": "code",
   "execution_count": null,
   "id": "d088067c",
   "metadata": {},
   "outputs": [],
   "source": [
    "import pandas as pd\n",
    "import matplotlib.pyplot as plt\n",
    "import seaborn as sns\n",
    "import numpy as np\n",
    "%matplotlib inline\n",
    "\n",
    "# Load dataset\n",
    "df_farmers = pd.read_csv('sample_farming_market_segmentation_dataset.csv')\n",
    "df_farmers.head()"
   ]
  },
  {
   "cell_type": "markdown",
   "id": "32da23dd",
   "metadata": {},
   "source": [
    "## 1. Bar Plot: Average Annual Income by Region"
   ]
  },
  {
   "cell_type": "code",
   "execution_count": null,
   "id": "604e3e82",
   "metadata": {},
   "outputs": [],
   "source": [
    "# 1. Bar Plot: Average Annual Income by Region\n",
    "plt.figure(figsize=(10, 6))\n",
    "sns.barplot(x='Region', y='Annual Income (INR)', data=df_farmers, estimator=np.mean, ci=None, palette='viridis')\n",
    "plt.title('Average Annual Income by Region', fontsize=16)\n",
    "plt.xlabel('Region', fontsize=14)\n",
    "plt.ylabel('Average Annual Income (INR)', fontsize=14)\n",
    "plt.xticks(rotation=45)\n",
    "plt.tight_layout()\n",
    "plt.show()"
   ]
  },
  {
   "cell_type": "markdown",
   "id": "ab310e80",
   "metadata": {},
   "source": [
    "## 2. Pie Chart: Distribution of Tech Adoption Levels"
   ]
  },
  {
   "cell_type": "code",
   "execution_count": null,
   "id": "73682610",
   "metadata": {},
   "outputs": [],
   "source": [
    "# 2. Pie Chart: Distribution of Tech Adoption Levels\n",
    "tech_adoption_counts = df_farmers['Tech Adoption'].value_counts()\n",
    "plt.figure(figsize=(8, 8))\n",
    "plt.pie(tech_adoption_counts, labels=tech_adoption_counts.index, autopct='%1.1f%%', startangle=90, colors=sns.color_palette('pastel'))\n",
    "plt.title('Distribution of Tech Adoption Levels', fontsize=16)\n",
    "plt.axis('equal')\n",
    "plt.show()"
   ]
  },
  {
   "cell_type": "markdown",
   "id": "8cc24408",
   "metadata": {},
   "source": [
    "## 3. Scatter Plot: Annual Income vs. Farm Size"
   ]
  },
  {
   "cell_type": "code",
   "execution_count": null,
   "id": "44019b04",
   "metadata": {},
   "outputs": [],
   "source": [
    "# 3. Scatter Plot: Annual Income vs. Farm Size\n",
    "plt.figure(figsize=(10, 6))\n",
    "sns.scatterplot(x='Farm Size (ha)', y='Annual Income (INR)', data=df_farmers, hue='Tech Adoption', style='Mobile Availability', palette='deep', s=100)\n",
    "plt.title('Annual Income vs. Farm Size', fontsize=16)\n",
    "plt.xlabel('Farm Size (ha)', fontsize=14)\n",
    "plt.ylabel('Annual Income (INR)', fontsize=14)\n",
    "plt.legend(title='Tech Adoption & Mobile Availability', bbox_to_anchor=(1, 1))\n",
    "plt.tight_layout()\n",
    "plt.show()"
   ]
  },
  {
   "cell_type": "markdown",
   "id": "c5aa62b7",
   "metadata": {},
   "source": [
    "## 4. Count Plot: Distribution of Primary Farming Methods"
   ]
  },
  {
   "cell_type": "code",
   "execution_count": null,
   "id": "72191ca4",
   "metadata": {},
   "outputs": [],
   "source": [
    "# 4. Count Plot: Primary Farming Method Distribution\n",
    "plt.figure(figsize=(10, 6))\n",
    "sns.countplot(x='Primary Farming Method', data=df_farmers, palette='viridis')\n",
    "plt.title('Distribution of Primary Farming Methods', fontsize=16)\n",
    "plt.xlabel('Primary Farming Method', fontsize=14)\n",
    "plt.ylabel('Count', fontsize=14)\n",
    "plt.xticks(rotation=45)\n",
    "plt.tight_layout()\n",
    "plt.show()"
   ]
  }
 ],
 "metadata": {},
 "nbformat": 4,
 "nbformat_minor": 5
}
